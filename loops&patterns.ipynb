{
  "nbformat": 4,
  "nbformat_minor": 0,
  "metadata": {
    "colab": {
      "name": "Untitled0.ipynb",
      "provenance": [],
      "collapsed_sections": [],
      "authorship_tag": "ABX9TyNbILZqNkWOIqXmSvQb5LT6",
      "include_colab_link": true
    },
    "kernelspec": {
      "name": "python3",
      "display_name": "Python 3"
    },
    "language_info": {
      "name": "python"
    }
  },
  "cells": [
    {
      "cell_type": "markdown",
      "metadata": {
        "id": "view-in-github",
        "colab_type": "text"
      },
      "source": [
        "<a href=\"https://colab.research.google.com/github/aatiqa-ghazali/Coding-Exercises/blob/main/loops%26patterns.ipynb\" target=\"_parent\"><img src=\"https://colab.research.google.com/assets/colab-badge.svg\" alt=\"Open In Colab\"/></a>"
      ]
    },
    {
      "cell_type": "code",
      "metadata": {
        "colab": {
          "base_uri": "https://localhost:8080/"
        },
        "id": "gky6E4-GOzg8",
        "outputId": "90e08f06-5dcc-47e1-cd20-41fcd55fc800"
      },
      "source": [
        "#mounting_drive\n",
        "from google.colab import drive\n",
        "drive.mount('/content/drive', force_remount=True)"
      ],
      "execution_count": null,
      "outputs": [
        {
          "output_type": "stream",
          "name": "stdout",
          "text": [
            "Mounted at /content/drive\n"
          ]
        }
      ]
    },
    {
      "cell_type": "code",
      "metadata": {
        "id": "_RxRXUdEdKKj"
      },
      "source": [
        "we use for loops to do the same for multiple no of time w-o repeatance"
      ],
      "execution_count": null,
      "outputs": []
    },
    {
      "cell_type": "code",
      "metadata": {
        "colab": {
          "base_uri": "https://localhost:8080/"
        },
        "id": "T1dLRrn3PEqW",
        "outputId": "e70ef4b0-34df-4508-ce6a-8412d7561570"
      },
      "source": [
        "print(\"hello world\")"
      ],
      "execution_count": null,
      "outputs": [
        {
          "output_type": "stream",
          "name": "stdout",
          "text": [
            "hello world\n"
          ]
        }
      ]
    },
    {
      "cell_type": "code",
      "metadata": {
        "colab": {
          "base_uri": "https://localhost:8080/"
        },
        "id": "Qz4QvjL8QBsO",
        "outputId": "411f69e2-b46e-48eb-a299-c0e282735351"
      },
      "source": [
        "for i in range(2,10,2):\n",
        "\n",
        "    print(\"hello world\")\n"
      ],
      "execution_count": null,
      "outputs": [
        {
          "output_type": "stream",
          "name": "stdout",
          "text": [
            "hello world\n",
            "hello world\n",
            "hello world\n",
            "hello world\n"
          ]
        }
      ]
    },
    {
      "cell_type": "code",
      "metadata": {
        "colab": {
          "base_uri": "https://localhost:8080/"
        },
        "id": "BqpkcZ4qSFu1",
        "outputId": "9136ad67-881c-498d-a4c9-7a94435ce4b9"
      },
      "source": [
        "#end is used so that on every iteration it does not come on next line\n",
        "for i in range(5):\n",
        " print(\"*\",end=\"\")\n",
        "\n",
        " \n"
      ],
      "execution_count": null,
      "outputs": [
        {
          "output_type": "stream",
          "name": "stdout",
          "text": [
            "*****"
          ]
        }
      ]
    },
    {
      "cell_type": "code",
      "metadata": {
        "colab": {
          "base_uri": "https://localhost:8080/"
        },
        "id": "LAGNgdnjcrjv",
        "outputId": "4eba5c81-6af3-4157-de52-5720e5a06a65"
      },
      "source": [
        "#All in one row\n",
        "for i in range(5):\n",
        " print(\"*\",end=\"\")\n",
        "\n",
        "for j in range(5):\n",
        " print(\"*\",end=\"\")"
      ],
      "execution_count": null,
      "outputs": [
        {
          "output_type": "stream",
          "name": "stdout",
          "text": [
            "**********"
          ]
        }
      ]
    },
    {
      "cell_type": "code",
      "metadata": {
        "colab": {
          "base_uri": "https://localhost:8080/"
        },
        "id": "nY7cC9v2cxJZ",
        "outputId": "9b7d64f6-d62c-4d57-b37e-fc50f0725904"
      },
      "source": [
        "#print for comin on next line\n",
        "for i in range(5):\n",
        " print(\"*\",end=\"\")\n",
        "print()\n",
        "for j in range(5):\n",
        " print(\"*\",end=\"\")"
      ],
      "execution_count": null,
      "outputs": [
        {
          "output_type": "stream",
          "name": "stdout",
          "text": [
            "*****\n",
            "*****"
          ]
        }
      ]
    },
    {
      "cell_type": "markdown",
      "metadata": {
        "id": "pCJFcDbve3xO"
      },
      "source": [
        "#dont you think we rae doing the same thing repeatidly;to avoide repeat we use for loops but not this way .so we will use loop inside loop"
      ]
    },
    {
      "cell_type": "code",
      "metadata": {
        "colab": {
          "base_uri": "https://localhost:8080/"
        },
        "id": "v-DyE9XJdT7S",
        "outputId": "1530f0f9-30e3-4ad8-90aa-85b7087bc60e"
      },
      "source": [
        "for j in range(5):\n",
        "  for i in range(5):\n",
        "    print(\"*\",end=\"\")\n",
        "  print()"
      ],
      "execution_count": null,
      "outputs": [
        {
          "output_type": "stream",
          "name": "stdout",
          "text": [
            "*****\n",
            "*****\n",
            "*****\n",
            "*****\n",
            "*****\n"
          ]
        }
      ]
    },
    {
      "cell_type": "markdown",
      "metadata": {
        "id": "RrDOHvvqexNm"
      },
      "source": [
        "#to print triangle control the no columns in a particulkar row ..\n",
        "for i=0 it will jot run\n",
        "for i=1 and greate it will run"
      ]
    },
    {
      "cell_type": "code",
      "metadata": {
        "id": "uQwqqyIzc6ua",
        "colab": {
          "base_uri": "https://localhost:8080/"
        },
        "outputId": "04d7417a-df37-4b08-9650-70fb02177400"
      },
      "source": [
        "for i in range(5):\n",
        "  for j in range(i+1):\n",
        "    #print(i,end=\"\")\n",
        "    print(\"*\", end=\"\")\n",
        "  print()"
      ],
      "execution_count": null,
      "outputs": [
        {
          "output_type": "stream",
          "name": "stdout",
          "text": [
            "*\n",
            "**\n",
            "***\n",
            "****\n",
            "*****\n"
          ]
        }
      ]
    },
    {
      "cell_type": "code",
      "metadata": {
        "colab": {
          "base_uri": "https://localhost:8080/"
        },
        "id": "GEFbJ73qdQQc",
        "outputId": "832cd65c-a15c-49ee-80ed-52fc5bf73ef3"
      },
      "source": [
        "for i in range(5):\n",
        "  for j in range(5-i):\n",
        "    #print(i,end=\"\")\n",
        "    print(\"*\", end=\"\")\n",
        "\n",
        "  print()\n"
      ],
      "execution_count": null,
      "outputs": [
        {
          "output_type": "stream",
          "name": "stdout",
          "text": [
            "*****\n",
            "****\n",
            "***\n",
            "**\n",
            "*\n"
          ]
        }
      ]
    },
    {
      "cell_type": "code",
      "metadata": {
        "colab": {
          "base_uri": "https://localhost:8080/"
        },
        "id": "U5Tot-Rfe082",
        "outputId": "9ab4858e-e24e-4965-9210-9f0622876e9e"
      },
      "source": [
        "n=5\n",
        "for i in range(n):\n",
        "  \n",
        "  for k in range(5-i):\n",
        "    print(\"*\",end=\"\")\n",
        "\n",
        "  print()\n",
        "  for j in range(i+1):\n",
        "    print(\" \", end='')"
      ],
      "execution_count": null,
      "outputs": [
        {
          "output_type": "stream",
          "name": "stdout",
          "text": [
            "*****\n",
            " ****\n",
            "  ***\n",
            "   **\n",
            "    *\n",
            "     "
          ]
        }
      ]
    },
    {
      "cell_type": "code",
      "metadata": {
        "colab": {
          "base_uri": "https://localhost:8080/"
        },
        "id": "dtfdyDoBod1L",
        "outputId": "1983d92b-fb6b-42d9-e4a3-ccd181c8795d"
      },
      "source": [
        "n=5\n",
        "for i in range(n):\n",
        "  for j in range(5-i):\n",
        "    print(\" \", end='')\n",
        "  for k in range(i+1):\n",
        "    print(\"*\",end=\"\")\n",
        "\n",
        "  print()\n",
        "  "
      ],
      "execution_count": null,
      "outputs": [
        {
          "output_type": "stream",
          "name": "stdout",
          "text": [
            "     *\n",
            "    **\n",
            "   ***\n",
            "  ****\n",
            " *****\n"
          ]
        }
      ]
    },
    {
      "cell_type": "code",
      "metadata": {
        "colab": {
          "base_uri": "https://localhost:8080/"
        },
        "id": "Us1ptybVndr_",
        "outputId": "94e8820e-4ff8-408c-921a-05d8ffbdf084"
      },
      "source": [
        "n=5\n",
        "for i in range(n):\n",
        "  for j in range(5-i):\n",
        "    print(\" \", end='')\n",
        "  for k in range(i+1):\n",
        "    print(\"*\",end=\"\")\n",
        "  for l in range(i):\n",
        "    print(\"*\",end=\"\")\n",
        "\n",
        "  print()"
      ],
      "execution_count": null,
      "outputs": [
        {
          "output_type": "stream",
          "name": "stdout",
          "text": [
            "     *\n",
            "    ***\n",
            "   *****\n",
            "  *******\n",
            " *********\n"
          ]
        }
      ]
    },
    {
      "cell_type": "code",
      "metadata": {
        "colab": {
          "base_uri": "https://localhost:8080/"
        },
        "id": "LSUOY9-mqpKz",
        "outputId": "7bd7130c-5b5a-43a7-e574-7cdf552740f9"
      },
      "source": [
        "n=5\n",
        "for i in range(n):\n",
        " for j in range(i+1):\n",
        "    print(\" \", end='')\n",
        " for k in range(n-i):\n",
        "    print(\"*\",end=\"\")\n",
        " for k in range(n-i-1):\n",
        "    print(\"*\",end=\"\")\n",
        "\n",
        " print()\n",
        " "
      ],
      "execution_count": null,
      "outputs": [
        {
          "output_type": "stream",
          "name": "stdout",
          "text": [
            " *********\n",
            "  *******\n",
            "   *****\n",
            "    ***\n",
            "     *\n"
          ]
        }
      ]
    },
    {
      "cell_type": "code",
      "metadata": {
        "colab": {
          "base_uri": "https://localhost:8080/"
        },
        "id": "pqOXXL44xK7u",
        "outputId": "b271f6b4-4722-4325-ac7c-11dee29edaac"
      },
      "source": [
        "n=5\n",
        "for i in range(n):\n",
        "  for j in range(5-i):\n",
        "    print(\" \", end='')\n",
        "  for k in range(i+1):\n",
        "    print(\"*\",end=\"\")\n",
        "  for l in range(i):\n",
        "    print(\"*\",end=\"\")\n",
        "\n",
        "  print()\n",
        "n=5\n",
        "for i in range(n):\n",
        " for j in range(i+1):\n",
        "    print(\" \", end='')\n",
        " for k in range(n-i):\n",
        "    print(\"*\",end=\"\")\n",
        " for k in range(n-i-1):\n",
        "    print(\"*\",end=\"\")\n",
        "\n",
        " print()"
      ],
      "execution_count": null,
      "outputs": [
        {
          "output_type": "stream",
          "name": "stdout",
          "text": [
            "     *\n",
            "    ***\n",
            "   *****\n",
            "  *******\n",
            " *********\n",
            " *********\n",
            "  *******\n",
            "   *****\n",
            "    ***\n",
            "     *\n"
          ]
        }
      ]
    },
    {
      "cell_type": "code",
      "metadata": {
        "colab": {
          "base_uri": "https://localhost:8080/"
        },
        "id": "cp96yinL0oas",
        "outputId": "015d4e53-2488-43df-e896-1867f32c5ce7"
      },
      "source": [
        ""
      ],
      "execution_count": null,
      "outputs": [
        {
          "output_type": "stream",
          "name": "stdout",
          "text": [
            "aatiqa is a good girl\n",
            "\n",
            "atiqa is a good girl\n",
            "\n"
          ]
        }
      ]
    }
  ]
}