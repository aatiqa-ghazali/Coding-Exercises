{
  "cells": [
    {
      "cell_type": "markdown",
      "metadata": {
        "id": "view-in-github",
        "colab_type": "text"
      },
      "source": [
        "<a href=\"https://colab.research.google.com/github/aatiqa-ghazali/Coding-Exercises/blob/main/basic-questions.ipynb\" target=\"_parent\"><img src=\"https://colab.research.google.com/assets/colab-badge.svg\" alt=\"Open In Colab\"/></a>"
      ]
    },
    {
      "cell_type": "code",
      "execution_count": null,
      "metadata": {
        "colab": {
          "base_uri": "https://localhost:8080/"
        },
        "id": "WHk32Kaj10zy",
        "outputId": "b8ad58ce-0ac7-4251-986e-883d75cb61a2"
      },
      "outputs": [
        {
          "output_type": "stream",
          "name": "stdout",
          "text": [
            "Mounted at /content/drive\n"
          ]
        }
      ],
      "source": [
        "#mounting_drive\n",
        "from google.colab import drive\n",
        "drive.mount('/content/drive', force_remount=True)"
      ]
    },
    {
      "cell_type": "code",
      "execution_count": null,
      "metadata": {
        "colab": {
          "base_uri": "https://localhost:8080/"
        },
        "id": "OjDxARu9cDM5",
        "outputId": "a13bec14-1ebe-4d37-89c1-701a040d5290"
      },
      "outputs": [
        {
          "name": "stdout",
          "output_type": "stream",
          "text": [
            "Enter your namegj\n",
            "Enter your namealice'\n",
            "Enter your namealice\n",
            "Good Evening alice\n"
          ]
        }
      ],
      "source": [
        "#take input from users\n",
        "def greetings():\n",
        " username=input(\"Enter your name\")\n",
        " if username==\"alice\" or username==\"bob\" :\n",
        "  print(\"Good Evening \" + username)\n",
        " else:\n",
        "    greetings()\n",
        "\n",
        "\n",
        "greetings()\n",
        "\n"
      ]
    },
    {
      "cell_type": "markdown",
      "metadata": {
        "id": "6d5xmDpRyHJ2"
      },
      "source": [
        "# **Write a program that asks the user for a number n and prints the sum of the numbers 1 to n**\n",
        "**bold text**"
      ]
    },
    {
      "cell_type": "code",
      "execution_count": null,
      "metadata": {
        "colab": {
          "base_uri": "https://localhost:8080/"
        },
        "id": "vvnsWrYEq0gy",
        "outputId": "88fe5de9-2bf9-4298-f92e-c8c870058058"
      },
      "outputs": [
        {
          "name": "stdout",
          "output_type": "stream",
          "text": [
            "Enter a no2\n",
            "3\n"
          ]
        }
      ],
      "source": [
        "val=int(input(\"Enter a no\"))\n",
        "sum=0\n",
        "for i in range(1,val+1):\n",
        "  sum+=i\n",
        "\n",
        "print(sum)"
      ]
    },
    {
      "cell_type": "markdown",
      "metadata": {
        "id": "Gb8nmkVOpUhl"
      },
      "source": [
        "# **Write a program which only multiples of three or five are considered in the sum, e.g. 3, 5, 6, 9, 10, 12, 15 for n=17**"
      ]
    },
    {
      "cell_type": "code",
      "execution_count": null,
      "metadata": {
        "colab": {
          "base_uri": "https://localhost:8080/"
        },
        "id": "enHCfUd0EDrJ",
        "outputId": "49c3b918-ff5e-4297-daad-1d6824da5c47"
      },
      "outputs": [
        {
          "name": "stdout",
          "output_type": "stream",
          "text": [
            "Enter a number17\n",
            "60\n"
          ]
        }
      ],
      "source": [
        "number=int(input(\"Enter a number\"))\n",
        "add=0\n",
        "for i in range(1,number+1):\n",
        "  if(i%3==0 or i%5==0):\n",
        "    add+=i\n",
        "  else:\n",
        "      add=add\n",
        "\n",
        "print(add)\n",
        "  \n",
        "\n"
      ]
    },
    {
      "cell_type": "markdown",
      "metadata": {
        "id": "V3q01XfJuB2k"
      },
      "source": [
        "# **Write a program that asks the user for a number n and gives them the possibility to choose between computing the sum and computing the product of 1,…,n.**\n"
      ]
    },
    {
      "cell_type": "code",
      "execution_count": null,
      "metadata": {
        "colab": {
          "base_uri": "https://localhost:8080/"
        },
        "id": "47eVR5lquH-_",
        "outputId": "90bba926-f276-4e22-d6db-ce8a12399e82"
      },
      "outputs": [
        {
          "name": "stdout",
          "output_type": "stream",
          "text": [
            "Enter a number10\n",
            "Press 1 for calculating and press 2 for calculating product2\n",
            "3628800\n"
          ]
        }
      ],
      "source": [
        "def options():\n",
        "  inp=int(input(\"Press 1 for calculating and press 2 for calculating product\"))\n",
        "  if inp==1:\n",
        "    sum=0\n",
        "    for i in range(1,inp1+1):\n",
        "     sum+=i\n",
        "    print(sum)\n",
        "  if inp==2:\n",
        "    product=1\n",
        "    for i in range(1,inp1+1):\n",
        "      product*=i\n",
        "    print(product)\n",
        "\n",
        "  else:\n",
        "    print(\"Please select 1 or 2\")\n",
        "    options()\n",
        "\n",
        "    \n",
        "inp1=int(input(\"Enter a number\"))\n",
        "options()\n",
        "\n",
        "\n"
      ]
    },
    {
      "cell_type": "markdown",
      "metadata": {
        "id": "CWlXQVxI6wjv"
      },
      "source": [
        "# Write a program that prints a multiplication table for numbers up to 12."
      ]
    },
    {
      "cell_type": "code",
      "execution_count": null,
      "metadata": {
        "colab": {
          "base_uri": "https://localhost:8080/"
        },
        "id": "BlwVEsqq66CX",
        "outputId": "33bbdb0d-4e27-474a-dffa-38f02b660452"
      },
      "outputs": [
        {
          "name": "stdout",
          "output_type": "stream",
          "text": [
            "Enter a number to print its table3\n",
            "3*1=3\n",
            "3*2=6\n",
            "3*3=9\n",
            "3*4=12\n",
            "3*5=15\n",
            "3*6=18\n",
            "3*7=21\n",
            "3*8=24\n",
            "3*9=27\n",
            "3*10=30\n",
            "3*11=33\n",
            "3*12=36\n"
          ]
        }
      ],
      "source": [
        "def table():\n",
        "  take_input=int(input(\"Enter a number to print its table\"))\n",
        "  print_table(take_input)\n",
        "def print_table(take_input):\n",
        "  for i in range(1,13):\n",
        "    product=(take_input)* i\n",
        "    print(str(take_input) + \"*\" + str(i)+ \"=\"+ str(product))\n",
        "\n",
        "table()\n"
      ]
    },
    {
      "cell_type": "markdown",
      "metadata": {
        "id": "1zSlloZoU_Am"
      },
      "source": [
        "# **Write a program that prints all prime numbers. (Note: if your programming language does not support arbitrary size numbers, printing all primes up to the largest number you can easily represent is fine too.)**"
      ]
    },
    {
      "cell_type": "code",
      "execution_count": null,
      "metadata": {
        "colab": {
          "background_save": true,
          "base_uri": "https://localhost:8080/"
        },
        "id": "d16W-5EqVFkd",
        "outputId": "6caa8f42-66c9-470b-cd2b-6e3cff13ea38"
      },
      "outputs": [
        {
          "ename": "IndentationError",
          "evalue": "ignored",
          "output_type": "error",
          "traceback": [
            "\u001b[0;36m  File \u001b[0;32m\"<ipython-input-25-5bf79002cc19>\"\u001b[0;36m, line \u001b[0;32m9\u001b[0m\n\u001b[0;31m    else:\u001b[0m\n\u001b[0m       ^\u001b[0m\n\u001b[0;31mIndentationError\u001b[0m\u001b[0;31m:\u001b[0m expected an indented block\n"
          ]
        }
      ],
      "source": [
        "def prime_no():\n",
        "  lower=int(input(\"Enter lower limit\"))\n",
        "  upper=int(input(\"enter upper limit\"))\n",
        "  for i in range (lower,upper+1):\n",
        "    if(i>1):\n",
        "     for j in range(2,i):\n",
        "       if (i%j==0):\n",
        "        break\n",
        "       else:\n",
        "        print(i)\n",
        "  \n",
        "prime_no()\n"
      ]
    },
    {
      "cell_type": "markdown",
      "source": [
        "# **Write a guessing game where the user has to guess a secret number. After every guess the program tells the user whether their number was too large or too small. At the end the number of tries needed should be printed. It counts only as one try if they input the same number multiple times consecutively.**"
      ],
      "metadata": {
        "id": "Opsb2GAH_kB3"
      }
    },
    {
      "cell_type": "code",
      "source": [
        "def guess():\n",
        "  tries=0\n",
        "  import random\n",
        "\n",
        "  rand=random.randint(0,100)\n",
        "  guessed=0\n",
        "  while(guessed!=rand):\n",
        "   \n",
        "    guessed=int(input(\"Enter a secret no\"))\n",
        "    if guessed > rand:\n",
        "      print(\"NO IS TOO LARGE\")\n",
        "      \n",
        "    if guessed < rand :\n",
        "      print(\"NO IS TOO SMALL\")\n",
        "\n",
        "    tries=tries+1\n",
        "    \n",
        "  print(\"Congrats you have guessed the number in\" + str(tries) +\"tries\")\n",
        "    \n",
        "\n",
        "guess()"
      ],
      "metadata": {
        "colab": {
          "base_uri": "https://localhost:8080/"
        },
        "id": "-89UvXqX_pzV",
        "outputId": "1b87cfb9-4498-4679-ce5c-c015e04c61b1"
      },
      "execution_count": null,
      "outputs": [
        {
          "output_type": "stream",
          "name": "stdout",
          "text": [
            "Enter a secret no10\n",
            "NO IS TOO SMALL\n",
            "Enter a secret no20\n",
            "NO IS TOO SMALL\n",
            "Enter a secret no30\n",
            "NO IS TOO SMALL\n",
            "Enter a secret no40\n",
            "NO IS TOO SMALL\n",
            "Enter a secret no50\n",
            "NO IS TOO LARGE\n",
            "Enter a secret no45\n",
            "NO IS TOO SMALL\n",
            "Enter a secret no46\n",
            "NO IS TOO SMALL\n",
            "Enter a secret no47\n",
            "NO IS TOO SMALL\n",
            "Enter a secret no48\n",
            "Congrats you have guessed the number in9tries\n"
          ]
        }
      ]
    },
    {
      "cell_type": "markdown",
      "metadata": {
        "id": "wFMnUNFk8-zQ"
      },
      "source": [
        ""
      ]
    }
  ],
  "metadata": {
    "colab": {
      "collapsed_sections": [],
      "name": "Untitled1.ipynb",
      "provenance": [],
      "authorship_tag": "ABX9TyNJrHgxTOfj4ET7GyhWd2OX",
      "include_colab_link": true
    },
    "kernelspec": {
      "display_name": "Python 3",
      "name": "python3"
    },
    "language_info": {
      "name": "python"
    }
  },
  "nbformat": 4,
  "nbformat_minor": 0
}