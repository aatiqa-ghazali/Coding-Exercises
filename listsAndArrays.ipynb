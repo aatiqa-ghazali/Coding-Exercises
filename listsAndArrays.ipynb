{
  "nbformat": 4,
  "nbformat_minor": 0,
  "metadata": {
    "colab": {
      "name": "Untitled",
      "provenance": [],
      "collapsed_sections": [],
      "authorship_tag": "ABX9TyMLTY8mciiWDdu6hhUTYBTb",
      "include_colab_link": true
    },
    "kernelspec": {
      "name": "python3",
      "display_name": "Python 3"
    },
    "language_info": {
      "name": "python"
    }
  },
  "cells": [
    {
      "cell_type": "markdown",
      "metadata": {
        "id": "view-in-github",
        "colab_type": "text"
      },
      "source": [
        "<a href=\"https://colab.research.google.com/github/aatiqa-ghazali/Coding-Exercises/blob/main/listsAndArrays.ipynb\" target=\"_parent\"><img src=\"https://colab.research.google.com/assets/colab-badge.svg\" alt=\"Open In Colab\"/></a>"
      ]
    },
    {
      "cell_type": "code",
      "execution_count": 1,
      "metadata": {
        "colab": {
          "base_uri": "https://localhost:8080/"
        },
        "id": "_tDecnLomOX6",
        "outputId": "102093ea-98d3-4037-fa5a-8922e42e7a67"
      },
      "outputs": [
        {
          "output_type": "stream",
          "name": "stdout",
          "text": [
            "Mounted at /content/drive\n"
          ]
        }
      ],
      "source": [
        "#mounting_drive\n",
        "from google.colab import drive\n",
        "drive.mount('/content/drive', force_remount=True)"
      ]
    },
    {
      "cell_type": "markdown",
      "source": [
        "# **Create a list and perform some basic operations for practice**"
      ],
      "metadata": {
        "id": "deVTtUdxraaK"
      }
    },
    {
      "cell_type": "code",
      "source": [
        "def create_list():\n",
        "  nums=[12,13,14,15,16]\n",
        "  nums.pop(1)\n",
        "  print(nums)\n",
        "  nums.insert(1,13)\n",
        "  print(nums)\n",
        "  nums[1]=90\n",
        "  print(nums)\n",
        "  nums.extend([34,23])\n",
        "  print(nums)\n",
        "  nums.remove(34)\n",
        "  print(nums)\n",
        "  print(nums[-1])\n",
        "\n",
        "create_list()"
      ],
      "metadata": {
        "colab": {
          "base_uri": "https://localhost:8080/"
        },
        "id": "xbNZ_bQ1qXLi",
        "outputId": "d19cb625-1ac9-44b3-b98b-3c8ffeae404e"
      },
      "execution_count": 16,
      "outputs": [
        {
          "output_type": "stream",
          "name": "stdout",
          "text": [
            "[12, 14, 15, 16]\n",
            "[12, 13, 14, 15, 16]\n",
            "[12, 90, 14, 15, 16]\n",
            "[12, 90, 14, 15, 16, 34, 23]\n",
            "[12, 90, 14, 15, 16, 23]\n",
            "23\n"
          ]
        }
      ]
    },
    {
      "cell_type": "markdown",
      "source": [
        "# **Create a tuple **"
      ],
      "metadata": {
        "id": "TSGhDph4s_Y6"
      }
    },
    {
      "cell_type": "code",
      "source": [
        "tup=(3,4,5)\n",
        "tup[1]\n",
        "#tup[1]=50\n",
        "#gave error on above line beacuse tuples are immutable i.e.e they can not be chnaged while lists are mutabale i.e. they can be changed\n"
      ],
      "metadata": {
        "id": "pc88vFZ3tzLj"
      },
      "execution_count": null,
      "outputs": []
    },
    {
      "cell_type": "markdown",
      "source": [
        "**swap two variables**"
      ],
      "metadata": {
        "id": "AQ968vBnuQGL"
      }
    },
    {
      "cell_type": "code",
      "source": [
        "#traditional_way\n",
        "a=9\n",
        "b=10\n",
        "#swap a and b\n",
        "temp=a\n",
        "a=b\n",
        "b=temp\n",
        "print(a)\n",
        "print(b)"
      ],
      "metadata": {
        "colab": {
          "base_uri": "https://localhost:8080/"
        },
        "id": "smVAnObKuT1i",
        "outputId": "76f3ef92-d85c-43c1-f5a3-d1274676f571"
      },
      "execution_count": 19,
      "outputs": [
        {
          "output_type": "stream",
          "name": "stdout",
          "text": [
            "10\n",
            "9\n"
          ]
        }
      ]
    },
    {
      "cell_type": "code",
      "source": [
        "#quick way of python to swap them \n",
        "a=9\n",
        "b=10\n",
        "a,b=b,a\n",
        "print(a,b)"
      ],
      "metadata": {
        "colab": {
          "base_uri": "https://localhost:8080/"
        },
        "id": "bQ3k977aulsd",
        "outputId": "d00328f7-03ca-4dc8-f863-6eb251149f4b"
      },
      "execution_count": 20,
      "outputs": [
        {
          "output_type": "stream",
          "name": "stdout",
          "text": [
            "10 9\n"
          ]
        }
      ]
    },
    {
      "cell_type": "code",
      "source": [
        "#loop in lists\n",
        "num=[1,6,7,8,9,100,4,5]\n",
        "print(num)\n",
        "\n",
        "for i in num:\n",
        "\n",
        "  print(i)"
      ],
      "metadata": {
        "colab": {
          "base_uri": "https://localhost:8080/"
        },
        "id": "x9bUlDH1vVk6",
        "outputId": "e670c64b-4e83-4b25-a6b3-d08b18c785bf"
      },
      "execution_count": 21,
      "outputs": [
        {
          "output_type": "stream",
          "name": "stdout",
          "text": [
            "[1, 6, 7, 8, 9, 100, 4, 5]\n",
            "1\n",
            "6\n",
            "7\n",
            "8\n",
            "9\n",
            "100\n",
            "4\n",
            "5\n"
          ]
        }
      ]
    },
    {
      "cell_type": "code",
      "source": [
        "#largest element in the list\n",
        "\n",
        "num=[1,6,7,8,9,100,4,5]\n",
        "\n",
        "#easy way isko sort the list first then last element in the largest one\n",
        "num.sort()\n",
        "print(num)\n",
        "largest=print(\"largest element in the list is\" + str(num[-1]))\n",
        "#traditional way\n",
        "#lets assume that first element is the largest then compare every next element with prev if it is greator then note it down in the end print the last value noted\n",
        "def find_largest():\n",
        "\n",
        "  n=[1,3,4,6,2,8]\n",
        "  #print(len(n))\n",
        "\n",
        "  for i in range(len(n)-1) :\n",
        "    temp=i\n",
        "    if(n[i]<n[i+1]):\n",
        "      temp=n[i+1]\n",
        "      print(temp)\n",
        "    \n",
        "      \n",
        "  return temp\n",
        "      \n",
        " \n",
        "\n",
        "larg_no=find_largest()\n",
        "print(larg_no)\n"
      ],
      "metadata": {
        "colab": {
          "base_uri": "https://localhost:8080/"
        },
        "id": "c2vwXuAowJkv",
        "outputId": "c8ca8aba-6e43-46b2-dba3-022ee56f3957"
      },
      "execution_count": 70,
      "outputs": [
        {
          "output_type": "stream",
          "name": "stdout",
          "text": [
            "[1, 4, 5, 6, 7, 8, 9, 100]\n",
            "largest element in the list is1\n",
            "3\n",
            "4\n",
            "6\n",
            "8\n",
            "8\n"
          ]
        }
      ]
    },
    {
      "cell_type": "code",
      "source": [
        "#print the smallest element in the list\n",
        "def find_smallest():\n",
        "  num1=[1,6,7,8,-9,100,4,5]\n",
        "  smallest=num1[0]\n",
        "  for i in range(len(num1)-1):\n",
        "    \n",
        "    if(num1[i]<smallest):\n",
        "      smallest=num1[i]\n",
        "      print(smallest)\n",
        "  return smallest\n",
        "\n",
        "print_smallest=find_smallest()\n",
        "print(print_smallest)\n"
      ],
      "metadata": {
        "colab": {
          "base_uri": "https://localhost:8080/"
        },
        "id": "Nskkn-SN2lOG",
        "outputId": "8bf2f2c6-5db1-427a-d2ef-d436307922cf"
      },
      "execution_count": 69,
      "outputs": [
        {
          "output_type": "stream",
          "name": "stdout",
          "text": [
            "-9\n",
            "-9\n"
          ]
        }
      ]
    }
  ]
}