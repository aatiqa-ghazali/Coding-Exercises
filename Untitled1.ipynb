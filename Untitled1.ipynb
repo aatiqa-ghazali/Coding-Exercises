{
  "nbformat": 4,
  "nbformat_minor": 0,
  "metadata": {
    "colab": {
      "name": "Untitled1.ipynb",
      "provenance": [],
      "collapsed_sections": [],
      "authorship_tag": "ABX9TyMbFL0jwLgCvat6qmlwfXyy",
      "include_colab_link": true
    },
    "kernelspec": {
      "name": "python3",
      "display_name": "Python 3"
    },
    "language_info": {
      "name": "python"
    }
  },
  "cells": [
    {
      "cell_type": "markdown",
      "metadata": {
        "id": "view-in-github",
        "colab_type": "text"
      },
      "source": [
        "<a href=\"https://colab.research.google.com/github/aatiqa-ghazali/Coding-Exercises/blob/main/Untitled1.ipynb\" target=\"_parent\"><img src=\"https://colab.research.google.com/assets/colab-badge.svg\" alt=\"Open In Colab\"/></a>"
      ]
    },
    {
      "cell_type": "code",
      "metadata": {
        "id": "WHk32Kaj10zy",
        "colab": {
          "base_uri": "https://localhost:8080/"
        },
        "outputId": "928b9078-90b7-478f-c89d-13c1edcc6d4b"
      },
      "source": [
        "#mounting_drive\n",
        "from google.colab import drive\n",
        "drive.mount('/content/drive', force_remount=True)"
      ],
      "execution_count": 1,
      "outputs": [
        {
          "output_type": "stream",
          "name": "stdout",
          "text": [
            "Mounted at /content/drive\n"
          ]
        }
      ]
    },
    {
      "cell_type": "code",
      "source": [
        "#take input from users\n",
        "def greetings():\n",
        " username=input(\"Enter your name\")\n",
        " if username==\"alice\" or username==\"bob\" :\n",
        "  print(\"Good Evening \" + username)\n",
        " else:\n",
        "    greetings()\n",
        "\n",
        "\n",
        "greetings()\n",
        "\n"
      ],
      "metadata": {
        "colab": {
          "base_uri": "https://localhost:8080/"
        },
        "id": "OjDxARu9cDM5",
        "outputId": "a13bec14-1ebe-4d37-89c1-701a040d5290"
      },
      "execution_count": 2,
      "outputs": [
        {
          "output_type": "stream",
          "name": "stdout",
          "text": [
            "Enter your namegj\n",
            "Enter your namealice'\n",
            "Enter your namealice\n",
            "Good Evening alice\n"
          ]
        }
      ]
    },
    {
      "cell_type": "markdown",
      "source": [
        "# **Write a program that asks the user for a number n and prints the sum of the numbers 1 to n**\n",
        "**bold text**"
      ],
      "metadata": {
        "id": "6d5xmDpRyHJ2"
      }
    },
    {
      "cell_type": "code",
      "source": [
        "val=int(input(\"Enter a no\"))\n",
        "sum=0\n",
        "for i in range(1,val+1):\n",
        "  sum+=i\n",
        "\n",
        "print(sum)"
      ],
      "metadata": {
        "colab": {
          "base_uri": "https://localhost:8080/"
        },
        "id": "vvnsWrYEq0gy",
        "outputId": "496b8e17-2594-48c4-f81f-c38b948f8509"
      },
      "execution_count": 21,
      "outputs": [
        {
          "output_type": "stream",
          "name": "stdout",
          "text": [
            "Enter a no3\n",
            "4\n"
          ]
        }
      ]
    },
    {
      "cell_type": "markdown",
      "source": [
        "# **Write a program which only multiples of three or five are considered in the sum, e.g. 3, 5, 6, 9, 10, 12, 15 for n=17**"
      ],
      "metadata": {
        "id": "Gb8nmkVOpUhl"
      }
    },
    {
      "cell_type": "code",
      "source": [
        "number=int(input(\"Enter a number\"))\n",
        "add=0\n",
        "for i in range(1,number+1):\n",
        "  if(i%3==0 or i%5==0):\n",
        "    add+=i\n",
        "  else:\n",
        "      add=add\n",
        "\n",
        "print(add)\n",
        "  \n",
        "\n"
      ],
      "metadata": {
        "colab": {
          "base_uri": "https://localhost:8080/"
        },
        "id": "enHCfUd0EDrJ",
        "outputId": "49c3b918-ff5e-4297-daad-1d6824da5c47"
      },
      "execution_count": 39,
      "outputs": [
        {
          "output_type": "stream",
          "name": "stdout",
          "text": [
            "Enter a number17\n",
            "60\n"
          ]
        }
      ]
    }
  ]
}